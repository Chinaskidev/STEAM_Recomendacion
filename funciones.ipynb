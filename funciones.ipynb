{
 "cells": [
  {
   "cell_type": "markdown",
   "metadata": {},
   "source": [
    "# Definición de Funciones para los Endpoints de la API\n",
    "\n",
    "A continuación, se describen las funciones creadas para los endpoints que serán consumidos en nuestra API:\n",
    "\n",
    "1. `PlayTimeGenre(genero)`: Esta función devuelve el año con la mayor cantidad de horas jugadas para el género especificado.\n",
    "\n",
    "2. `UserForGenre(genero)`: La función `UserForGenre` devuelve el usuario que acumula más horas jugadas para el género proporcionado, junto con una lista de la acumulación de horas jugadas por año.\n",
    "\n",
    "3. `UsersRecommend(año)`: Devuelve el top 3 de juegos MÁS recomendados por usuarios para el año dado. Estos juegos tienen recomendaciones positivas o neutrales y tienen la máxima calificación por parte de los usuarios.\n",
    "\n",
    "4. `UsersNotRecommend(año)`: Devuelve el top 3 de juegos MENOS recomendados por usuarios para el año dado. Estos juegos tienen recomendaciones negativas y comentarios críticos por parte de los usuarios.\n",
    "\n",
    "5. `sentiment_analysis(año)`: Según el año de lanzamiento, esta función devuelve una lista con la cantidad de registros de reseñas de usuarios que se encuentran categorizados con un análisis de sentimiento. La lista muestra la cantidad de reseñas positivas, negativas y neutrales para ese año.\n",
    "\n",
    "Estas funciones son esenciales para el funcionamiento de nuestra API y se encargan de procesar las solicitudes entrantes y generar respuestas adecuadas."
   ]
  },
  {
   "cell_type": "code",
   "execution_count": 1,
   "metadata": {},
   "outputs": [],
   "source": [
    "import pandas as pd # Importare las librerias necesarias\n",
    "import datetime"
   ]
  },
  {
   "cell_type": "code",
   "execution_count": 2,
   "metadata": {},
   "outputs": [],
   "source": [
    "# Leere el CSV 'PlayTimeGenre_funcion'\n",
    "play_genre= pd.read_csv('PlayTimeGenre_funcion.csv', low_memory=False)"
   ]
  },
  {
   "cell_type": "code",
   "execution_count": 3,
   "metadata": {},
   "outputs": [
    {
     "data": {
      "text/plain": [
       "{'Genero con más horas jugadas  Action': 730.0,\n",
       " 'Horas jugadas': [{'Año': '2004-06-01', 'Horas': 269.0},\n",
       "  {'Año': '2009-03-23', 'Horas': 2786.0},\n",
       "  {'Año': '2011-03-22', 'Horas': 25355.0},\n",
       "  {'Año': '2012-07-05', 'Horas': 4659.0},\n",
       "  {'Año': '2012-08-30', 'Horas': 265.0},\n",
       "  {'Año': '2013-10-01', 'Horas': 2327.0},\n",
       "  {'Año': '2014-10-02', 'Horas': 74076.0},\n",
       "  {'Año': '2014-11-26', 'Horas': 61193.0},\n",
       "  {'Año': '2015-01-15', 'Horas': 57204.0},\n",
       "  {'Año': '2015-09-11', 'Horas': 189556.0},\n",
       "  {'Año': '2016-06-02', 'Horas': 36303.0},\n",
       "  {'Año': '2017-10-17', 'Horas': 11180.0},\n",
       "  {'Año': '2017-12-08', 'Horas': 584.0}]}"
      ]
     },
     "execution_count": 3,
     "metadata": {},
     "output_type": "execute_result"
    }
   ],
   "source": [
    "def PlayTimeGenre(genres, play_genre):\n",
    "    '''\n",
    "    Esta función devuelve el año con la mayor \n",
    "    cantidad de horas jugadas para el género especificado.\n",
    "    '''\n",
    "    # Voy a filtrar el DataFrame para incluir solo el género específico\n",
    "    df_filtered = play_genre[play_genre['genres'] == genres]\n",
    "\n",
    "    if df_filtered.empty:\n",
    "        return f\"No se encontraron datos para el género {genres}\"\n",
    "\n",
    "    # Los agrupare por usuario y año de lanzamiento y suma las horas jugadas\n",
    "    usuario_año_playtime = df_filtered.groupby(['item_id', 'release_date'])['playtime_forever'].sum().reset_index()\n",
    "\n",
    "    # En esta linea se encuentra el usuario con más horas jugadas para el género dado\n",
    "    max_usuario = usuario_año_playtime.groupby('item_id')['playtime_forever'].sum().idxmax()\n",
    "\n",
    "    # Incluyo solo las filas correspondientes al usuario con más horas jugadas\n",
    "    df_max_usuario = usuario_año_playtime[usuario_año_playtime['item_id'] == max_usuario]\n",
    "\n",
    "    # Agrupo por año y sumo las horas jugadas para el usuario \n",
    "    max_usuario_año_playtime = df_max_usuario.groupby('release_date')['playtime_forever'].sum()\n",
    "\n",
    "    # Convierto el resultado en un formato específico\n",
    "    max_usuario_año_playtime_list = [{\"Año\": str(year), \"Horas\": hours} for year, hours in max_usuario_año_playtime.items()]\n",
    "\n",
    "    return {\n",
    "        f\"Genero con más horas jugadas  {genres}\": max_usuario,\n",
    "        \"Horas jugadas\": max_usuario_año_playtime_list\n",
    "    }\n",
    "\n",
    "genres = \"Action\"\n",
    "result = PlayTimeGenre(genres, play_genre)\n",
    "result\n"
   ]
  },
  {
   "cell_type": "code",
   "execution_count": 4,
   "metadata": {},
   "outputs": [],
   "source": [
    "# Leere el CSV 'UserForGenre_funcion'\n",
    "user_genre= pd.read_csv('UserForGenre_funcion.csv', low_memory=False)"
   ]
  },
  {
   "cell_type": "code",
   "execution_count": 5,
   "metadata": {},
   "outputs": [
    {
     "data": {
      "text/plain": [
       "{'Usuario con más horas jugadas para Action Indie': 'thequeenpanda',\n",
       " 'Horas jugadas': [{'Año': 2015, 'Horas': 97.0},\n",
       "  {'Año': 2016, 'Horas': 294923.0}]}"
      ]
     },
     "execution_count": 5,
     "metadata": {},
     "output_type": "execute_result"
    }
   ],
   "source": [
    "def UserForGenre(genres, user_genre):\n",
    "    '''Vuelvo a crear la función que me devolvera al usuario con mayor jugadas\n",
    "    los años y horas'''\n",
    "    \n",
    "    # filtrare el DataFrame para incluir solo el género específico\n",
    "    df_filtro2 = user_genre[user_genre['genres'] == genres]\n",
    "\n",
    "    # Esta linea corrige los valores de 'release_date' que no siguen el formato esperado\n",
    "    df_filtro2 = df_filtro2[df_filtro2['release_date'].str.match(r'\\d{4}-\\d{2}-\\d{2}', na=False)]\n",
    "\n",
    "    # Lo convierto 'release_date' a un objeto de fecha y hora válido\n",
    "    df_filtro2['release_date'] = pd.to_datetime(df_filtro2['release_date'], format='%Y-%m-%d')\n",
    "\n",
    "    # Voy a agrupar por usuario y año de lanzamiento y suma las horas jugadas\n",
    "    usuario_año_playtime = df_filtro2.groupby(['user_id', df_filtro2['release_date'].dt.year])['playtime_forever'].sum().reset_index()\n",
    "\n",
    "    # Aqui se encuentra el usuario con más horas jugadas para el género dado\n",
    "    max_usuario = usuario_año_playtime.groupby('user_id')['playtime_forever'].sum().idxmax()\n",
    "\n",
    "    # incluyo solo las filas correspondientes al usuario con más horas jugadas\n",
    "    df_max_usuario = usuario_año_playtime[usuario_año_playtime['user_id'] == max_usuario]\n",
    "\n",
    "    # Agrupo por año y sumo las horas jugadas para el usuario.\n",
    "    max_usuario_año_playtime = df_max_usuario.groupby('release_date')['playtime_forever'].sum()\n",
    "\n",
    "    # Convierto el resultado a una lista de diccionarios\n",
    "    max_usuario_año_playtime_list = [{\"Año\": year, \"Horas\": hours} for year, hours in zip(max_usuario_año_playtime.index, max_usuario_año_playtime)]\n",
    "\n",
    "    return {\n",
    "        f\"Usuario con más horas jugadas para {genres}\": max_usuario,\n",
    "        \"Horas jugadas\": max_usuario_año_playtime_list\n",
    "    }\n",
    "\n",
    "genres = \"Action Indie\"\n",
    "result = UserForGenre(genres, user_genre)\n",
    "\n",
    "result\n"
   ]
  },
  {
   "cell_type": "code",
   "execution_count": 6,
   "metadata": {},
   "outputs": [],
   "source": [
    "# Leere el CSV 'UsersRecommend_funcion' \n",
    "user_recommend= pd.read_csv('UsersRecommend_funcion.csv', low_memory=False)"
   ]
  },
  {
   "cell_type": "code",
   "execution_count": 7,
   "metadata": {},
   "outputs": [
    {
     "data": {
      "text/plain": [
       "[{'Puesto 1: Trine  Complete Story': 1},\n",
       " {'Puesto 2: Angelica Weaver Catch Me When You Can': 1},\n",
       " {'Puesto 3: DmC Devil May Cry': 1}]"
      ]
     },
     "execution_count": 7,
     "metadata": {},
     "output_type": "execute_result"
    }
   ],
   "source": [
    "def UsersRecommend(year):\n",
    "    '''Devuelve los 3 juegos más recomendados por usuarios para el año dado por un usuario específico.'''\n",
    "    \n",
    "    # Filtra reseñas recomendadas para el año y el usuario específico\n",
    "    filtered_reviews = user_recommend[(user_recommend['release_date'].str.contains(str(year), regex=False, na=False)) & (user_recommend['recommend'] == True)]\n",
    "\n",
    "    # Contar la cantidad de reseñas por título de juego\n",
    "    game_counts = filtered_reviews['title'].value_counts().reset_index()\n",
    "    game_counts.columns = ['title', 'count']\n",
    "\n",
    "    # Seleccionar los 3 juegos más recomendados\n",
    "    top_games = game_counts.head(3)\n",
    "\n",
    "    # Crear una lista de diccionarios con los juegos más recomendados\n",
    "    top_3_games_list = [{\"Puesto {}: {}\".format(i+1, game): count} for i, (game, count) in enumerate(zip(top_games['title'], top_games['count']))]\n",
    "\n",
    "    return top_3_games_list\n",
    "\n",
    "year = 2013\n",
    "result = UsersRecommend(year)\n",
    "result"
   ]
  },
  {
   "cell_type": "code",
   "execution_count": 8,
   "metadata": {},
   "outputs": [],
   "source": [
    "# Ahora leere el CSV 'UsersNotRecommend_funcion'\n",
    "juegos_no_recom= pd.read_csv('UsersNotRecommend_funcion.csv', low_memory=False)"
   ]
  },
  {
   "cell_type": "code",
   "execution_count": 9,
   "metadata": {},
   "outputs": [
    {
     "data": {
      "text/plain": [
       "[{'Puesto 1: RC Plane   Canyon Scenario': 1},\n",
       " {'Puesto 2: RC Plane   FB': 1},\n",
       " {'Puesto 3: Chronicles of Vinland': 1}]"
      ]
     },
     "execution_count": 9,
     "metadata": {},
     "output_type": "execute_result"
    }
   ],
   "source": [
    "def juegosNoRecomendados(año):\n",
    "    \n",
    "    ''' Y esta funcion lo que hara es lo contrario de la anterior, \n",
    "        devolvera los juegos no recomendados por los usuarios'''\n",
    "        \n",
    "    # Filtrare el DataFrame para incluir solo el año y las reseñas no recomendadas\n",
    "    filtrando_reviews = juegos_no_recom[(juegos_no_recom['release_date'].str.contains(str(año), regex=False, na=False)) & (juegos_no_recom['recommend'] == False)]\n",
    "\n",
    "    # Agrupo por título del juego y cuenta la cantidad de reseñas no recomendadas\n",
    "    game_counts = filtrando_reviews['title'].value_counts().reset_index()\n",
    "    game_counts.columns = ['title', 'count']\n",
    "\n",
    "    # Ordeno los juegos por la cantidad de no recomendaciones de manera descendente\n",
    "    juegos_no = game_counts.head(3)\n",
    "\n",
    "    # Convierto el resultado en un formato de lista de diccionarios\n",
    "    menos_3_juegos_list = [{\"Puesto {}: \".format(i+1) + game: count} for i, (game, count) in enumerate(zip(juegos_no['title'], juegos_no['count']))]\n",
    "\n",
    "    return menos_3_juegos_list\n",
    "\n",
    "año = 2017\n",
    "result = juegosNoRecomendados(año)\n",
    "result\n"
   ]
  },
  {
   "cell_type": "markdown",
   "metadata": {},
   "source": [
    "- En esta función tuve algunas dificultades con la columna 'sentiment_analysis', asi es que la converti en formato 'int' antes estaba en 'float' y borre algunos NaN ya que mi funcion no corria y me daba error."
   ]
  },
  {
   "cell_type": "code",
   "execution_count": 10,
   "metadata": {},
   "outputs": [],
   "source": [
    "# Leo el CSV 'sentiment_analysis_funcion'\n",
    "df_sentimiento_analisis= pd.read_csv('sentiment_analysis_funcion.csv', low_memory=False)"
   ]
  },
  {
   "cell_type": "code",
   "execution_count": 11,
   "metadata": {},
   "outputs": [
    {
     "name": "stdout",
     "output_type": "stream",
     "text": [
      "{'Negative': 5, 'Neutral': 5, 'Positive': 11}\n"
     ]
    }
   ],
   "source": [
    "def sentiment_analysis(anio):\n",
    "    '''\n",
    "    Función que devuelve la cantidad de registros de reseñas de usuarios \n",
    "    categorizados con un análisis de sentimiento para un anio de lanzamiento específico. \n",
    "    '''\n",
    "    \n",
    "    # Filtrar las reseñas por el anio especificado\n",
    "    df_filtrado = df_sentimiento_analisis[df_sentimiento_analisis['release_date'].str.startswith(str(anio))]\n",
    "\n",
    "        # Contar la cantidad de registros para cada categoría de análisis de sentimiento\n",
    "    sentiment_counts = df_filtrado['sentiment_analysis'].value_counts()\n",
    "\n",
    "    # Crear un diccionario con los resultados\n",
    "    result_dict = {\"Negative\": 0, \"Neutral\": 0, \"Positive\": 0}\n",
    "    \n",
    "    for index, count in sentiment_counts.items():\n",
    "        if index == 0:\n",
    "            result_dict[\"Negative\"] = count\n",
    "        elif index == 1:\n",
    "            result_dict[\"Neutral\"] = count\n",
    "        elif index == 2:\n",
    "            result_dict[\"Positive\"] = count\n",
    "\n",
    "    return result_dict\n",
    "\n",
    "count_sentiment = sentiment_analysis(2005)\n",
    "print(count_sentiment)\n"
   ]
  }
 ],
 "metadata": {
  "kernelspec": {
   "display_name": "Python 3",
   "language": "python",
   "name": "python3"
  },
  "language_info": {
   "codemirror_mode": {
    "name": "ipython",
    "version": 3
   },
   "file_extension": ".py",
   "mimetype": "text/x-python",
   "name": "python",
   "nbconvert_exporter": "python",
   "pygments_lexer": "ipython3",
   "version": "3.11.5"
  }
 },
 "nbformat": 4,
 "nbformat_minor": 2
}
